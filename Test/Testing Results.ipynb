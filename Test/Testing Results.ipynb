{
 "cells": [
  {
   "cell_type": "code",
   "execution_count": 92,
   "id": "56c8c3cc",
   "metadata": {},
   "outputs": [],
   "source": [
    "import pandas as pd\n",
    "from pathlib import Path\n",
    "import os\n",
    "\n",
    "base_path = Path(os.getcwd()).parent\n",
    "\n",
    "test_turnoff_path = [\"RosBags\\\\PIDV1.csv\",\n",
    "                     \"RosBags\\\\PIDV2.csv\",\n",
    "                     \"RosBags\\\\PIDV3.csv\"]\n",
    "\n",
    "test_turnoff = []\n",
    "for i, test_path in enumerate(test_turnoff_path):\n",
    "    test_path = base_path / test_path\n",
    "    test_turnoff.append(pd.read_csv(test_path))\n",
    "    for j in range(8):\n",
    "        test_turnoff[i][f'/Vicon/data[{j}]'] = test_turnoff[i][f'/Vicon/data[{j}]'].dropna().reset_index(drop=True)\n",
    "\n"
   ]
  },
  {
   "cell_type": "code",
   "execution_count": null,
   "id": "5a5dc60f",
   "metadata": {},
   "outputs": [
    {
     "name": "stdout",
     "output_type": "stream",
     "text": [
      "0.0\n"
     ]
    }
   ],
   "source": [
    "import matplotlib.pyplot as plt\n",
    "\n",
    "def plot(columns):\n",
    "    column_labels = ['X', 'Y', 'Z', 'Roll', 'Pitch', 'Yaw']\n",
    "    y_axis = ['Position[m]', 'Angle[rad]']\n",
    "    \n",
    "    # Create a 2x3 grid for all six plots\n",
    "    fig, axes = plt.subplots(2, 3, figsize=(15, 10))\n",
    "    axes = axes.flatten()  # Flatten the 2D array of axes for easier indexing\n",
    "    \n",
    "    for i, column in enumerate(columns):\n",
    "        axes[i].plot(column, marker='o', linestyle='-', markersize=1, label=column_labels[i])\n",
    "        axes[i].set_title(f'Plot of {column_labels[i]}')\n",
    "        axes[i].set_xlabel('Package number')\n",
    "        axes[i].set_ylabel(y_axis[i // 3])  # Use 'Position[m]' for first 3, 'Angle[rad]' for last 3\n",
    "        axes[i].legend()\n",
    "        axes[i].grid(True)\n",
    "    \n",
    "    plt.tight_layout()  # Adjust layout to prevent overlap\n",
    "    plt.show()\n",
    "\n",
    "\n",
    "#print(test_turnoff[0]['/Vicon/data[0]'].dropna())\n",
    "\n"
   ]
  },
  {
   "cell_type": "code",
   "execution_count": 93,
   "id": "645761f4",
   "metadata": {},
   "outputs": [
    {
     "name": "stdout",
     "output_type": "stream",
     "text": [
      "0        4.0\n",
      "1        4.0\n",
      "2        4.0\n",
      "3        4.0\n",
      "4        4.0\n",
      "        ... \n",
      "67549    NaN\n",
      "67550    NaN\n",
      "67551    NaN\n",
      "67552    NaN\n",
      "67553    NaN\n",
      "Name: /Vicon/data[0], Length: 67554, dtype: float64\n"
     ]
    }
   ],
   "source": [
    "print(test_turnoff[0][f'/Vicon/data[0]'])"
   ]
  },
  {
   "cell_type": "code",
   "execution_count": null,
   "id": "6edacc9b",
   "metadata": {},
   "outputs": [],
   "source": []
  },
  {
   "cell_type": "code",
   "execution_count": null,
   "id": "21302951",
   "metadata": {},
   "outputs": [],
   "source": []
  }
 ],
 "metadata": {
  "kernelspec": {
   "display_name": "Python 3",
   "language": "python",
   "name": "python3"
  },
  "language_info": {
   "codemirror_mode": {
    "name": "ipython",
    "version": 3
   },
   "file_extension": ".py",
   "mimetype": "text/x-python",
   "name": "python",
   "nbconvert_exporter": "python",
   "pygments_lexer": "ipython3",
   "version": "3.11.9"
  }
 },
 "nbformat": 4,
 "nbformat_minor": 5
}
