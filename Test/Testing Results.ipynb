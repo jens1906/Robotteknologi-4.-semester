{
 "cells": [
  {
   "cell_type": "code",
   "execution_count": 25,
   "id": "56c8c3cc",
   "metadata": {},
   "outputs": [
    {
     "ename": "FileNotFoundError",
     "evalue": "[Errno 2] No such file or directory: 'RosBags\\\\ViconTest0605\\\\ViconTest0605_0.mcap'",
     "output_type": "error",
     "traceback": [
      "\u001b[31m---------------------------------------------------------------------------\u001b[39m",
      "\u001b[31mFileNotFoundError\u001b[39m                         Traceback (most recent call last)",
      "\u001b[36mCell\u001b[39m\u001b[36m \u001b[39m\u001b[32mIn[25]\u001b[39m\u001b[32m, line 47\u001b[39m\n\u001b[32m     44\u001b[39m         plt.grid(\u001b[38;5;28;01mTrue\u001b[39;00m)\n\u001b[32m     45\u001b[39m     plt.show()\n\u001b[32m---> \u001b[39m\u001b[32m47\u001b[39m col = \u001b[43mmcap\u001b[49m\u001b[43m(\u001b[49m\u001b[43mtest_turnoff\u001b[49m\u001b[43m)\u001b[49m\n",
      "\u001b[36mCell\u001b[39m\u001b[36m \u001b[39m\u001b[32mIn[25]\u001b[39m\u001b[32m, line 25\u001b[39m, in \u001b[36mmcap\u001b[39m\u001b[34m(mcap_path)\u001b[39m\n\u001b[32m     23\u001b[39m \u001b[38;5;28;01mdef\u001b[39;00m\u001b[38;5;250m \u001b[39m\u001b[34mmcap\u001b[39m(mcap_path):\n\u001b[32m     24\u001b[39m     columns = []\n\u001b[32m---> \u001b[39m\u001b[32m25\u001b[39m \u001b[43m    \u001b[49m\u001b[38;5;28;43;01mfor\u001b[39;49;00m\u001b[43m \u001b[49m\u001b[43mmsg\u001b[49m\u001b[43m \u001b[49m\u001b[38;5;129;43;01min\u001b[39;49;00m\u001b[43m \u001b[49m\u001b[43mread_ros2_messages\u001b[49m\u001b[43m(\u001b[49m\u001b[43mmcap_path\u001b[49m\u001b[43m)\u001b[49m\u001b[43m:\u001b[49m\n\u001b[32m     26\u001b[39m \u001b[43m        \u001b[49m\u001b[38;5;28;43mprint\u001b[39;49m\u001b[43m(\u001b[49m\u001b[43mmsg\u001b[49m\u001b[43m)\u001b[49m\n\u001b[32m     27\u001b[39m \u001b[43m        \u001b[49m\u001b[43mdata\u001b[49m\u001b[43m \u001b[49m\u001b[43m=\u001b[49m\u001b[43m \u001b[49m\u001b[43mmsg\u001b[49m\u001b[43m.\u001b[49m\u001b[43mros_msg\u001b[49m\u001b[43m.\u001b[49m\u001b[43mdata\u001b[49m\n",
      "\u001b[36mFile \u001b[39m\u001b[32m~\\AppData\\Local\\Packages\\PythonSoftwareFoundation.Python.3.11_qbz5n2kfra8p0\\LocalCache\\local-packages\\Python311\\site-packages\\mcap_ros2\\reader.py:66\u001b[39m, in \u001b[36mread_ros2_messages\u001b[39m\u001b[34m(source, topics, start_time, end_time, log_time_order, reverse)\u001b[39m\n\u001b[32m     60\u001b[39m fd = \u001b[38;5;28;01mNone\u001b[39;00m\n\u001b[32m     61\u001b[39m \u001b[38;5;28;01mif\u001b[39;00m (\n\u001b[32m     62\u001b[39m     \u001b[38;5;28misinstance\u001b[39m(source, PathLike)\n\u001b[32m     63\u001b[39m     \u001b[38;5;129;01mor\u001b[39;00m \u001b[38;5;28misinstance\u001b[39m(source, \u001b[38;5;28mstr\u001b[39m)\n\u001b[32m     64\u001b[39m     \u001b[38;5;129;01mor\u001b[39;00m \u001b[38;5;28misinstance\u001b[39m(source, \u001b[38;5;28mbytes\u001b[39m)\n\u001b[32m     65\u001b[39m ):\n\u001b[32m---> \u001b[39m\u001b[32m66\u001b[39m     fd = \u001b[38;5;28;43mopen\u001b[39;49m\u001b[43m(\u001b[49m\u001b[43msource\u001b[49m\u001b[43m,\u001b[49m\u001b[43m \u001b[49m\u001b[33;43m\"\u001b[39;49m\u001b[33;43mrb\u001b[39;49m\u001b[33;43m\"\u001b[39;49m\u001b[43m)\u001b[49m\n\u001b[32m     67\u001b[39m     reader = make_reader(fd, decoder_factories=[DecoderFactory()])\n\u001b[32m     68\u001b[39m \u001b[38;5;28;01melif\u001b[39;00m \u001b[38;5;28misinstance\u001b[39m(source, McapReader):\n",
      "\u001b[31mFileNotFoundError\u001b[39m: [Errno 2] No such file or directory: 'RosBags\\\\ViconTest0605\\\\ViconTest0605_0.mcap'"
     ]
    }
   ],
   "source": [
    "from mcap_ros2.reader import read_ros2_messages\n",
    "import numpy as np\n",
    "import matplotlib.pyplot as plt\n",
    "\n",
    "\"\"\"\n",
    "test_turnoff = [\"RosBags//TurnOffTest0805//TurnOffTest0805_0.mcap\",\n",
    "                \"RosBags//TurnOffTest0805V2//TurnOffTest0805V2_0.mcap\",\n",
    "                \"RosBags//TurnOffTest0805V3//TurnOffTest0805V3_0.mcap\"]\n",
    "\n",
    "\"\"\"\n",
    "\"\"\"\n",
    "test_PID = [\"RosBags//PIDTEST0805//PIDTEST0805_0.mcap\",\n",
    "            \"RosBags//PIDTEST0805V2//PIDTEST0805V2_0.mcap\",\n",
    "            \"RosBags//PIDTEST0805V3//PIDTEST0805V3_0.mcap\",\n",
    "            \"RosBags//PIDTEST0805V4//PIDTEST0805V4_0.mcap\",\n",
    "            \"RosBags//PIDTEST0805V5//PIDTEST0805V5_0.mcap\"]\n",
    "\n",
    "\"\"\"\n",
    "\n",
    "test_turnoff = \"RosBags\\\\ViconTest0605\\\\ViconTest0605_0.mcap\"\n",
    "\n",
    "\n",
    "def mcap(mcap_path):\n",
    "    columns = []\n",
    "    for msg in read_ros2_messages(mcap_path):\n",
    "        print(msg)\n",
    "        data = msg.ros_msg.data\n",
    "        for i, value in enumerate(data):\n",
    "            if len(columns) <= i:\n",
    "                columns.append([])  # Add a new list for this index\n",
    "            columns[i].append(value)\n",
    "    return columns\n",
    "\n",
    "def plot_columns(columns):\n",
    "    column_labels = ['X', 'Y', 'Z', 'Roll', 'Pitch', 'Yaw']\n",
    "    y_axis = ['Position[m]', 'Angle[rad]']\n",
    "    for i, column in enumerate(columns):\n",
    "        plt.figure()\n",
    "        plt.plot(column, marker='o', linestyle='-', markersize=1, label=column_labels[i])\n",
    "        plt.title(f'Plot of {column_labels[i]}')\n",
    "        plt.xlabel('Time(s)')\n",
    "        plt.ylabel(y_axis[i//3])\n",
    "        plt.legend()\n",
    "        plt.grid(True)\n",
    "    plt.show()\n",
    "\n",
    "col = mcap(test_turnoff)\n",
    "\n",
    "\n"
   ]
  },
  {
   "cell_type": "code",
   "execution_count": null,
   "id": "5b30cd19",
   "metadata": {},
   "outputs": [],
   "source": [
    "plot_columns(turnoff_data[0][0])\n",
    "\n",
    "\n",
    "turnoff_data = [mcap(test) for test in test_turnoff]\n",
    "PID_data = [mcap(test) for test in test_PID]\n",
    "\n",
    "\n",
    "\n",
    "\n",
    "\n"
   ]
  }
 ],
 "metadata": {
  "kernelspec": {
   "display_name": "Python 3",
   "language": "python",
   "name": "python3"
  },
  "language_info": {
   "codemirror_mode": {
    "name": "ipython",
    "version": 3
   },
   "file_extension": ".py",
   "mimetype": "text/x-python",
   "name": "python",
   "nbconvert_exporter": "python",
   "pygments_lexer": "ipython3",
   "version": "3.11.9"
  }
 },
 "nbformat": 4,
 "nbformat_minor": 5
}
